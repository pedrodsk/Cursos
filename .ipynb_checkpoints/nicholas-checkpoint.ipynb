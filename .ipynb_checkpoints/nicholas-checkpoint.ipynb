{
 "cells": [
  {
   "cell_type": "code",
   "execution_count": 1,
   "id": "ad2ef26d-4d76-46e8-85e1-7e05dd974491",
   "metadata": {},
   "outputs": [
    {
     "name": "stdout",
     "output_type": "stream",
     "text": [
      "Collecting mediapipe\n",
      "  Downloading mediapipe-0.8.6.2-cp38-cp38-manylinux_2_17_x86_64.manylinux2014_x86_64.whl (32.2 MB)\n",
      "\u001b[K     |████████████████████████████████| 32.2 MB 42 kB/s s eta 0:00:01\n",
      "\u001b[?25hCollecting opencv-python\n",
      "  Downloading opencv_python-4.5.3.56-cp38-cp38-manylinux2014_x86_64.whl (49.9 MB)\n",
      "\u001b[K     |████████████████████████████████| 49.9 MB 24 kB/s s eta 0:00:01\n",
      "\u001b[?25hRequirement already satisfied: wheel in /home/pedrodsk/anaconda3/lib/python3.8/site-packages (from mediapipe) (0.36.2)\n",
      "Requirement already satisfied: absl-py in /home/pedrodsk/anaconda3/lib/python3.8/site-packages (from mediapipe) (0.13.0)\n",
      "Requirement already satisfied: six in /home/pedrodsk/anaconda3/lib/python3.8/site-packages (from mediapipe) (1.16.0)\n",
      "Requirement already satisfied: protobuf>=3.11.4 in /home/pedrodsk/anaconda3/lib/python3.8/site-packages (from mediapipe) (3.17.3)\n",
      "Requirement already satisfied: matplotlib in /home/pedrodsk/anaconda3/lib/python3.8/site-packages (from mediapipe) (3.3.4)\n",
      "Requirement already satisfied: numpy in /home/pedrodsk/anaconda3/lib/python3.8/site-packages (from mediapipe) (1.20.3)\n",
      "Collecting opencv-contrib-python\n",
      "  Downloading opencv_contrib_python-4.5.3.56-cp38-cp38-manylinux2014_x86_64.whl (56.1 MB)\n",
      "\u001b[K     |████████████████████████████████| 56.1 MB 4.7 kB/s  eta 0:00:01     |█████████████████████▍          | 37.5 MB 24.6 MB/s eta 0:00:01\n",
      "\u001b[?25hRequirement already satisfied: attrs>=19.1.0 in /home/pedrodsk/anaconda3/lib/python3.8/site-packages (from mediapipe) (21.2.0)\n",
      "Requirement already satisfied: pillow>=6.2.0 in /home/pedrodsk/anaconda3/lib/python3.8/site-packages (from matplotlib->mediapipe) (8.3.1)\n",
      "Requirement already satisfied: cycler>=0.10 in /home/pedrodsk/anaconda3/lib/python3.8/site-packages (from matplotlib->mediapipe) (0.10.0)\n",
      "Requirement already satisfied: pyparsing!=2.0.4,!=2.1.2,!=2.1.6,>=2.0.3 in /home/pedrodsk/anaconda3/lib/python3.8/site-packages (from matplotlib->mediapipe) (2.4.7)\n",
      "Requirement already satisfied: python-dateutil>=2.1 in /home/pedrodsk/anaconda3/lib/python3.8/site-packages (from matplotlib->mediapipe) (2.8.2)\n",
      "Requirement already satisfied: kiwisolver>=1.0.1 in /home/pedrodsk/anaconda3/lib/python3.8/site-packages (from matplotlib->mediapipe) (1.3.1)\n",
      "Installing collected packages: opencv-contrib-python, opencv-python, mediapipe\n",
      "Successfully installed mediapipe-0.8.6.2 opencv-contrib-python-4.5.3.56 opencv-python-4.5.3.56\n"
     ]
    }
   ],
   "source": [
    "!pip install mediapipe opencv-python"
   ]
  },
  {
   "cell_type": "code",
   "execution_count": 3,
   "id": "334dca9c-2862-4ed7-851c-c296dd215635",
   "metadata": {},
   "outputs": [],
   "source": [
    "import mediapipe as mp\n",
    "import cv2"
   ]
  },
  {
   "cell_type": "code",
   "execution_count": 4,
   "id": "e5cbaaaa-0cf8-497a-983e-a6c56ccd1169",
   "metadata": {},
   "outputs": [],
   "source": [
    "mp_drawing = mp.solutions.drawing_utils\n",
    "mp_holistic = mp.solutions.holistic"
   ]
  },
  {
   "cell_type": "code",
   "execution_count": 8,
   "id": "554c3239-bb11-47df-a57f-838c1b1c6dcf",
   "metadata": {},
   "outputs": [],
   "source": [
    "cap = cv2.VideoCapture(0)\n",
    "while cap.isOpened():\n",
    "  ret, frame = cap.read()\n",
    "  cv2.imshow(\"Holistic Model Detections\", frame)\n",
    "\n",
    "  if cv2.waitKey(10) & 0xFF == ord('q'):\n",
    "    break\n",
    "\n",
    "cap.release()\n",
    "cv2.destroyAllWindows()"
   ]
  },
  {
   "cell_type": "code",
   "execution_count": null,
   "id": "4d93ffc0-8f08-408e-868a-497a32f693b0",
   "metadata": {},
   "outputs": [],
   "source": []
  }
 ],
 "metadata": {
  "kernelspec": {
   "display_name": "Python 3",
   "language": "python",
   "name": "python3"
  },
  "language_info": {
   "codemirror_mode": {
    "name": "ipython",
    "version": 3
   },
   "file_extension": ".py",
   "mimetype": "text/x-python",
   "name": "python",
   "nbconvert_exporter": "python",
   "pygments_lexer": "ipython3",
   "version": "3.8.8"
  }
 },
 "nbformat": 4,
 "nbformat_minor": 5
}
