{
  "nbformat": 4,
  "nbformat_minor": 0,
  "metadata": {
    "colab": {
      "name": "CursoDeepLearningUdemy.ipynb",
      "provenance": [],
      "authorship_tag": "ABX9TyN7xi1azMuvOwkGmwfSnior",
      "include_colab_link": true
    },
    "kernelspec": {
      "name": "python3",
      "display_name": "Python 3"
    },
    "language_info": {
      "name": "python"
    }
  },
  "cells": [
    {
      "cell_type": "markdown",
      "metadata": {
        "id": "view-in-github",
        "colab_type": "text"
      },
      "source": [
        "<a href=\"https://colab.research.google.com/github/pedrodsk/cursos/blob/main/CursoDeepLearningUdemy.ipynb\" target=\"_parent\"><img src=\"https://colab.research.google.com/assets/colab-badge.svg\" alt=\"Open In Colab\"/></a>"
      ]
    },
    {
      "cell_type": "markdown",
      "metadata": {
        "id": "y7YKosnXqUZw"
      },
      "source": [
        "# Curso de Deep Learning - Udemy."
      ]
    },
    {
      "cell_type": "code",
      "metadata": {
        "id": "Oav6MqbDqNEr"
      },
      "source": [
        ""
      ],
      "execution_count": null,
      "outputs": []
    }
  ]
}