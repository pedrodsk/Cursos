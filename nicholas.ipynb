{
 "cells": [
  {
   "cell_type": "markdown",
   "id": "5553cd63",
   "metadata": {},
   "source": [
    "# MEDIAPIPE"
   ]
  },
  {
   "cell_type": "code",
   "execution_count": null,
   "id": "dc0be84a",
   "metadata": {},
   "outputs": [],
   "source": [
    "!pip install mediapipe opencv-python"
   ]
  },
  {
   "cell_type": "markdown",
   "id": "b32ae605",
   "metadata": {},
   "source": [
    "## Pontos\n",
    "<img src=https://google.github.io/mediapipe/images/mobile/hand_landmarks.png />"
   ]
  },
  {
   "cell_type": "code",
   "execution_count": null,
   "id": "e2368761",
   "metadata": {},
   "outputs": [],
   "source": [
    "import mediapipe as mp\n",
    "import cv2\n",
    "import numpy as np\n",
    "import uuid\n",
    "import os"
   ]
  },
  {
   "cell_type": "code",
   "execution_count": null,
   "id": "8e109e80",
   "metadata": {},
   "outputs": [],
   "source": [
    "mp_drawing = mp.solutions.drawing_utils\n",
    "mp_hands = mp.solutions.hands"
   ]
  },
  {
   "cell_type": "code",
   "execution_count": 8,
   "id": "b79c2626",
   "metadata": {
    "scrolled": true,
    "tags": []
   },
   "outputs": [
    {
     "ename": "NameError",
     "evalue": "name 'hand_landmarks' is not defined",
     "output_type": "error",
     "traceback": [
      "\u001b[0;31m---------------------------------------------------------------------------\u001b[0m",
      "\u001b[0;31mNameError\u001b[0m                                 Traceback (most recent call last)",
      "\u001b[0;32m<ipython-input-8-bf1d6a4f0202>\u001b[0m in \u001b[0;36m<module>\u001b[0;34m\u001b[0m\n\u001b[1;32m     18\u001b[0m         \u001b[0;32mif\u001b[0m \u001b[0mresults\u001b[0m\u001b[0;34m.\u001b[0m\u001b[0mmulti_hand_landmarks\u001b[0m\u001b[0;34m:\u001b[0m\u001b[0;34m\u001b[0m\u001b[0;34m\u001b[0m\u001b[0m\n\u001b[1;32m     19\u001b[0m             \u001b[0;31m#print(results.multi_hand_landmarks)\u001b[0m\u001b[0;34m\u001b[0m\u001b[0;34m\u001b[0m\u001b[0;34m\u001b[0m\u001b[0m\n\u001b[0;32m---> 20\u001b[0;31m             \u001b[0mprint\u001b[0m\u001b[0;34m(\u001b[0m\u001b[0mhand_landmarks\u001b[0m\u001b[0;34m.\u001b[0m\u001b[0mlandmark\u001b[0m\u001b[0;34m[\u001b[0m\u001b[0mmp_hands\u001b[0m\u001b[0;34m.\u001b[0m\u001b[0mHandLandmark\u001b[0m\u001b[0;34m.\u001b[0m\u001b[0mINDEX_FINGER_MCP\u001b[0m\u001b[0;34m]\u001b[0m\u001b[0;34m.\u001b[0m\u001b[0mx\u001b[0m\u001b[0;34m)\u001b[0m\u001b[0;34m\u001b[0m\u001b[0;34m\u001b[0m\u001b[0m\n\u001b[0m\u001b[1;32m     21\u001b[0m \u001b[0;34m\u001b[0m\u001b[0m\n\u001b[1;32m     22\u001b[0m \u001b[0;34m\u001b[0m\u001b[0m\n",
      "\u001b[0;31mNameError\u001b[0m: name 'hand_landmarks' is not defined"
     ]
    }
   ],
   "source": [
    "cap = cv2.VideoCapture(0)\n",
    "\n",
    "with mp_hands.Hands(min_detection_confidence=0.8, min_tracking_confidence=0.5) as hands:\n",
    "    \n",
    "    while cap.isOpened():\n",
    "        ret, frame = cap.read()\n",
    "        \n",
    "        #BGR TO RGB\n",
    "        image = cv2.cvtColor(frame,cv2.COLOR_BGR2RGB)\n",
    "        \n",
    "        #flip on horizontal\n",
    "        image = cv2.flip(image,1)\n",
    "        #Set Flag\n",
    "        image.flags.writeable=False\n",
    "        \n",
    "        #detections\n",
    "        results = hands.process(image)\n",
    "        if results.multi_hand_landmarks:\n",
    "            #print(results.multi_hand_landmarks)\n",
    "            print(hand_landmarks.landmark[mp_hands.HandLandmark.INDEX_FINGER_MCP].x)\n",
    "            \n",
    "        \n",
    "        # Set flag to true\n",
    "        image.flags.writeable = True\n",
    "        \n",
    "        # RGB 2 BGR\n",
    "        image = cv2.cvtColor(image, cv2.COLOR_RGB2BGR)\n",
    "        \n",
    "        #Detections\n",
    "        #print(results)\n",
    "        #results.multi_hand_landmarks\n",
    "        \n",
    "        #rendering results\n",
    "        if results.multi_hand_landmarks:\n",
    "            for num, hand in enumerate(results.multi_hand_landmarks):\n",
    "                mp_drawing.draw_landmarks(image, hand, mp_hands.HAND_CONNECTIONS)\n",
    "    \n",
    "        \n",
    "        cv2.imshow(\"Palmprint\", image)\n",
    "\n",
    "        if cv2.waitKey(10) & 0xFF == ord('q'):\n",
    "            break\n",
    "\n",
    "cap.release()\n",
    "cv2.destroyAllWindows()"
   ]
  },
  {
   "cell_type": "markdown",
   "id": "256eb197",
   "metadata": {},
   "source": [
    "## "
   ]
  },
  {
   "cell_type": "code",
   "execution_count": 16,
   "id": "9f6abbc1",
   "metadata": {},
   "outputs": [
    {
     "name": "stdout",
     "output_type": "stream",
     "text": [
      "(1706, 1658)\n",
      "Left\n"
     ]
    }
   ],
   "source": [
    "import cv2\n",
    "import mediapipe\n",
    " \n",
    "drawingModule = mediapipe.solutions.drawing_utils\n",
    "handsModule = mediapipe.solutions.hands\n",
    " \n",
    "with handsModule.Hands(static_image_mode=True) as hands:\n",
    " \n",
    "    image = cv2.imread(\"/home/pedrodsk/Downloads/maoPedro_esquerda.jpg\")\n",
    "    image = cv2.flip(image,1)\n",
    "    #cv2.imshow(\"Palmprint\", image)\n",
    "    #cv2.waitKey(0)\n",
    "        \n",
    "    results = hands.process(cv2.cvtColor(image, cv2.COLOR_BGR2RGB))\n",
    "    \n",
    "    #cv2.imshow(\"Palmprint\", image)\n",
    "    #cv2.waitKey(0)\n",
    "\n",
    "    #if cv2.waitKey(0) & 0xFF == ord('q'):\n",
    "    #    cv2.destroyAllWindows()\n",
    "\n",
    "\n",
    "\n",
    "    imageHeight, imageWidth, _ = image.shape\n",
    "#  '''\n",
    "#     if results.multi_hand_landmarks != None:\n",
    "#         for handLandmarks in results.multi_hand_landmarks:\n",
    "#           for point in handsModule.HandLandmark:\n",
    " \n",
    "#               normalizedLandmark = handLandmarks.landmark[point]\n",
    "#               pixelCoordinatesLandmark = drawingModule._normalized_to_pixel_coordinates(normalizedLandmark.x, normalizedLandmark.y, imageWidth, imageHeight)\n",
    " \n",
    "#               print(point)\n",
    "#               print(pixelCoordinatesLandmark[0])\n",
    "#               print(results.multi_handedness[0].classification[0].label)  \n",
    "#               #print(normalizedLandmark)\n",
    "#  '''\n",
    "    normalizedLandmark = handLandmarks.landmark[5]\n",
    "    pixelCoordinatesLandmark_5 = drawingModule._normalized_to_pixel_coordinates(normalizedLandmark.x, normalizedLandmark.y, imageWidth, imageHeight)\n",
    " \n",
    "    #print(point)\n",
    "    print(pixelCoordinatesLandmark_5)\n",
    "    print(results.multi_handedness[0].classification[0].label)"
   ]
  },
  {
   "cell_type": "code",
   "execution_count": 44,
   "id": "df59bc05",
   "metadata": {},
   "outputs": [
    {
     "data": {
      "text/plain": [
       "True"
      ]
     },
     "execution_count": 44,
     "metadata": {},
     "output_type": "execute_result"
    }
   ],
   "source": [
    "results.multi_handedness[0].classification[0].label == 'Left'"
   ]
  },
  {
   "cell_type": "code",
   "execution_count": 4,
   "id": "1f7d17e9",
   "metadata": {},
   "outputs": [
    {
     "data": {
      "text/plain": [
       "tuple"
      ]
     },
     "execution_count": 4,
     "metadata": {},
     "output_type": "execute_result"
    }
   ],
   "source": [
    "type(pixelCoordinatesLandmark)"
   ]
  },
  {
   "cell_type": "code",
   "execution_count": 7,
   "id": "990f3a1d-2164-4d3e-ae65-731e6b7f5aec",
   "metadata": {},
   "outputs": [
    {
     "data": {
      "text/plain": [
       "1339"
      ]
     },
     "execution_count": 7,
     "metadata": {},
     "output_type": "execute_result"
    }
   ],
   "source": [
    "pixelCoordinatesLandmark[1]"
   ]
  },
  {
   "cell_type": "code",
   "execution_count": 8,
   "id": "7b0a11fc-9baf-4404-a1f4-b2e7d34dd458",
   "metadata": {},
   "outputs": [
    {
     "name": "stdout",
     "output_type": "stream",
     "text": [
      "comandos\t\t      deep_learning   README.md      tcc\n",
      "CursoDeepLearningUdemy.ipynb  nicholas.ipynb  redes_neurais\n"
     ]
    }
   ],
   "source": [
    "!ls\n"
   ]
  },
  {
   "cell_type": "code",
   "execution_count": 21,
   "id": "d6a11760-6a2d-4c1c-b8b4-ba3b47441b45",
   "metadata": {},
   "outputs": [
    {
     "data": {
      "text/plain": [
       "mediapipe.framework.formats.classification_pb2.ClassificationList"
      ]
     },
     "execution_count": 21,
     "metadata": {},
     "output_type": "execute_result"
    }
   ],
   "source": [
    "type(results.multi_handedness[0])"
   ]
  },
  {
   "cell_type": "code",
   "execution_count": 26,
   "id": "ae0087a7-50f7-426c-8960-5eadc991b398",
   "metadata": {},
   "outputs": [
    {
     "ename": "NameError",
     "evalue": "name 'MessageToDict' is not defined",
     "output_type": "error",
     "traceback": [
      "\u001b[0;31m---------------------------------------------------------------------------\u001b[0m",
      "\u001b[0;31mNameError\u001b[0m                                 Traceback (most recent call last)",
      "\u001b[0;32m<ipython-input-26-4d8d9e2e2f06>\u001b[0m in \u001b[0;36m<module>\u001b[0;34m\u001b[0m\n\u001b[1;32m      1\u001b[0m \u001b[0;32mfor\u001b[0m \u001b[0midx\u001b[0m\u001b[0;34m,\u001b[0m \u001b[0mhand_handedness\u001b[0m \u001b[0;32min\u001b[0m \u001b[0menumerate\u001b[0m\u001b[0;34m(\u001b[0m\u001b[0mresults\u001b[0m\u001b[0;34m.\u001b[0m\u001b[0mmulti_handedness\u001b[0m\u001b[0;34m)\u001b[0m\u001b[0;34m:\u001b[0m\u001b[0;34m\u001b[0m\u001b[0;34m\u001b[0m\u001b[0m\n\u001b[0;32m----> 2\u001b[0;31m     \u001b[0mhandedness_dict\u001b[0m \u001b[0;34m=\u001b[0m \u001b[0mMessageToDict\u001b[0m\u001b[0;34m(\u001b[0m\u001b[0mhand_handedness\u001b[0m\u001b[0;34m)\u001b[0m\u001b[0;34m\u001b[0m\u001b[0;34m\u001b[0m\u001b[0m\n\u001b[0m\u001b[1;32m      3\u001b[0m     \u001b[0mprint\u001b[0m\u001b[0;34m(\u001b[0m\u001b[0mhandedness_dict\u001b[0m\u001b[0;34m)\u001b[0m\u001b[0;34m\u001b[0m\u001b[0;34m\u001b[0m\u001b[0m\n",
      "\u001b[0;31mNameError\u001b[0m: name 'MessageToDict' is not defined"
     ]
    }
   ],
   "source": [
    "for idx, hand_handedness in enumerate(results.multi_handedness):\n",
    "    handedness_dict = MessageToDict(hand_handedness)\n",
    "    print(handedness_dict)"
   ]
  },
  {
   "cell_type": "code",
   "execution_count": 42,
   "id": "fe0024fd-7cf3-4ef0-9ffc-0dd01fd92294",
   "metadata": {},
   "outputs": [
    {
     "data": {
      "text/plain": [
       "str"
      ]
     },
     "execution_count": 42,
     "metadata": {},
     "output_type": "execute_result"
    }
   ],
   "source": [
    "type(results.multi_handedness[0].classification[0].label)"
   ]
  },
  {
   "cell_type": "code",
   "execution_count": 4,
   "id": "c8c6aa0c-41af-4fee-b069-0383c7437656",
   "metadata": {},
   "outputs": [
    {
     "data": {
      "text/plain": [
       "x: 0.4180719256401062\n",
       "y: 0.8093957304954529\n",
       "z: -6.685295375064015e-05"
      ]
     },
     "execution_count": 4,
     "metadata": {},
     "output_type": "execute_result"
    }
   ],
   "source": [
    "handLandmarks.landmark[0]"
   ]
  },
  {
   "cell_type": "code",
   "execution_count": 6,
   "id": "9c61b241-9095-4c31-9ef3-9d5808d994b5",
   "metadata": {},
   "outputs": [
    {
     "data": {
      "text/plain": [
       "x: 0.5859349370002747\n",
       "y: 0.7683277130126953\n",
       "z: -0.11464744806289673"
      ]
     },
     "execution_count": 6,
     "metadata": {},
     "output_type": "execute_result"
    }
   ],
   "source": [
    "handLandmarks.landmark[1]"
   ]
  },
  {
   "cell_type": "code",
   "execution_count": 17,
   "id": "e5be9dbf-68d2-447a-99ef-9cadaea34cd8",
   "metadata": {},
   "outputs": [
    {
     "data": {
      "text/plain": [
       "0.5644052624702454"
      ]
     },
     "execution_count": 17,
     "metadata": {},
     "output_type": "execute_result"
    }
   ],
   "source": [
    "handLandmarks.landmark[5].x"
   ]
  },
  {
   "cell_type": "code",
   "execution_count": 9,
   "id": "519669d6-83bd-4949-b65b-91b86faed5bb",
   "metadata": {},
   "outputs": [
    {
     "data": {
      "text/plain": [
       "float"
      ]
     },
     "execution_count": 9,
     "metadata": {},
     "output_type": "execute_result"
    }
   ],
   "source": [
    "type(handLandmarks.landmark[5].x)"
   ]
  },
  {
   "cell_type": "code",
   "execution_count": 10,
   "id": "87230202-6614-4aac-b6fa-a40e1d3e8ee5",
   "metadata": {},
   "outputs": [
    {
     "data": {
      "text/plain": [
       "246"
      ]
     },
     "execution_count": 10,
     "metadata": {},
     "output_type": "execute_result"
    }
   ],
   "source": [
    "pixelCoordinatesLandmark[0]"
   ]
  },
  {
   "cell_type": "code",
   "execution_count": 11,
   "id": "1aaa8457-852d-4a05-af9f-9677fef9d958",
   "metadata": {},
   "outputs": [
    {
     "ename": "IndexError",
     "evalue": "tuple index out of range",
     "output_type": "error",
     "traceback": [
      "\u001b[0;31m---------------------------------------------------------------------------\u001b[0m",
      "\u001b[0;31mIndexError\u001b[0m                                Traceback (most recent call last)",
      "\u001b[0;32m<ipython-input-11-909805d6ff9e>\u001b[0m in \u001b[0;36m<module>\u001b[0;34m\u001b[0m\n\u001b[0;32m----> 1\u001b[0;31m \u001b[0mpixelCoordinatesLandmark\u001b[0m\u001b[0;34m[\u001b[0m\u001b[0;36m5\u001b[0m\u001b[0;34m]\u001b[0m\u001b[0;34m\u001b[0m\u001b[0;34m\u001b[0m\u001b[0m\n\u001b[0m",
      "\u001b[0;31mIndexError\u001b[0m: tuple index out of range"
     ]
    }
   ],
   "source": [
    "pixelCoordinatesLandmark[5]"
   ]
  },
  {
   "cell_type": "code",
   "execution_count": 12,
   "id": "b10b0cd8-ab25-4e20-9167-c8cb836af7cf",
   "metadata": {},
   "outputs": [
    {
     "ename": "IndexError",
     "evalue": "tuple index out of range",
     "output_type": "error",
     "traceback": [
      "\u001b[0;31m---------------------------------------------------------------------------\u001b[0m",
      "\u001b[0;31mIndexError\u001b[0m                                Traceback (most recent call last)",
      "\u001b[0;32m<ipython-input-12-b2dfa1cb4219>\u001b[0m in \u001b[0;36m<module>\u001b[0;34m\u001b[0m\n\u001b[0;32m----> 1\u001b[0;31m \u001b[0mpixelCoordinatesLandmark\u001b[0m\u001b[0;34m[\u001b[0m\u001b[0;36m2\u001b[0m\u001b[0;34m]\u001b[0m\u001b[0;34m\u001b[0m\u001b[0;34m\u001b[0m\u001b[0m\n\u001b[0m",
      "\u001b[0;31mIndexError\u001b[0m: tuple index out of range"
     ]
    }
   ],
   "source": [
    "pixelCoordinatesLandmark[2]"
   ]
  },
  {
   "cell_type": "code",
   "execution_count": 13,
   "id": "e39ba5c6-e128-4f2e-90ca-36aae6ea76f0",
   "metadata": {},
   "outputs": [
    {
     "data": {
      "text/plain": [
       "988"
      ]
     },
     "execution_count": 13,
     "metadata": {},
     "output_type": "execute_result"
    }
   ],
   "source": [
    "pixelCoordinatesLandmark[1]"
   ]
  },
  {
   "cell_type": "code",
   "execution_count": null,
   "id": "fb4a64d1-bf76-4469-aefc-753d7b0f68ba",
   "metadata": {},
   "outputs": [],
   "source": []
  }
 ],
 "metadata": {
  "kernelspec": {
   "display_name": "Python 3",
   "language": "python",
   "name": "python3"
  },
  "language_info": {
   "codemirror_mode": {
    "name": "ipython",
    "version": 3
   },
   "file_extension": ".py",
   "mimetype": "text/x-python",
   "name": "python",
   "nbconvert_exporter": "python",
   "pygments_lexer": "ipython3",
   "version": "3.8.11"
  }
 },
 "nbformat": 4,
 "nbformat_minor": 5
}
