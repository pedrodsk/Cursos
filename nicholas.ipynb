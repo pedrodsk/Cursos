{
 "cells": [
  {
   "cell_type": "markdown",
   "id": "5553cd63",
   "metadata": {},
   "source": [
    "# MEDIAPIPE"
   ]
  },
  {
   "cell_type": "code",
   "execution_count": 1,
   "id": "dc0be84a",
   "metadata": {},
   "outputs": [
    {
     "name": "stdout",
     "output_type": "stream",
     "text": [
      "Requirement already satisfied: mediapipe in /home/pedrodsk/anaconda3/lib/python3.8/site-packages (0.8.6.2)\n",
      "Requirement already satisfied: opencv-python in /home/pedrodsk/anaconda3/lib/python3.8/site-packages (4.5.3.56)\n",
      "Requirement already satisfied: opencv-contrib-python in /home/pedrodsk/anaconda3/lib/python3.8/site-packages (from mediapipe) (4.5.3.56)\n",
      "Requirement already satisfied: wheel in /home/pedrodsk/anaconda3/lib/python3.8/site-packages (from mediapipe) (0.36.2)\n",
      "Requirement already satisfied: absl-py in /home/pedrodsk/anaconda3/lib/python3.8/site-packages (from mediapipe) (0.13.0)\n",
      "Requirement already satisfied: matplotlib in /home/pedrodsk/anaconda3/lib/python3.8/site-packages (from mediapipe) (3.4.2)\n",
      "Requirement already satisfied: attrs>=19.1.0 in /home/pedrodsk/anaconda3/lib/python3.8/site-packages (from mediapipe) (21.2.0)\n",
      "Requirement already satisfied: numpy in /home/pedrodsk/anaconda3/lib/python3.8/site-packages (from mediapipe) (1.20.3)\n",
      "Requirement already satisfied: protobuf>=3.11.4 in /home/pedrodsk/anaconda3/lib/python3.8/site-packages (from mediapipe) (3.17.3)\n",
      "Requirement already satisfied: six in /home/pedrodsk/anaconda3/lib/python3.8/site-packages (from mediapipe) (1.16.0)\n",
      "Requirement already satisfied: pillow>=6.2.0 in /home/pedrodsk/anaconda3/lib/python3.8/site-packages (from matplotlib->mediapipe) (8.3.1)\n",
      "Requirement already satisfied: pyparsing>=2.2.1 in /home/pedrodsk/anaconda3/lib/python3.8/site-packages (from matplotlib->mediapipe) (2.4.7)\n",
      "Requirement already satisfied: kiwisolver>=1.0.1 in /home/pedrodsk/anaconda3/lib/python3.8/site-packages (from matplotlib->mediapipe) (1.3.1)\n",
      "Requirement already satisfied: python-dateutil>=2.7 in /home/pedrodsk/anaconda3/lib/python3.8/site-packages (from matplotlib->mediapipe) (2.8.2)\n",
      "Requirement already satisfied: cycler>=0.10 in /home/pedrodsk/anaconda3/lib/python3.8/site-packages (from matplotlib->mediapipe) (0.10.0)\n"
     ]
    }
   ],
   "source": [
    "!pip install mediapipe opencv-python"
   ]
  },
  {
   "cell_type": "markdown",
   "id": "b32ae605",
   "metadata": {},
   "source": [
    "## Pontos\n",
    "<img src=https://google.github.io/mediapipe/images/mobile/hand_landmarks.png />"
   ]
  },
  {
   "cell_type": "code",
   "execution_count": 4,
   "id": "e2368761",
   "metadata": {},
   "outputs": [],
   "source": [
    "import mediapipe as mp\n",
    "import cv2\n",
    "import numpy as np\n",
    "import uuid\n",
    "import os"
   ]
  },
  {
   "cell_type": "code",
   "execution_count": 2,
   "id": "8e109e80",
   "metadata": {},
   "outputs": [],
   "source": [
    "mp_drawing = mp.solutions.drawing_utils\n",
    "mp_hands = mp.solutions.hands"
   ]
  },
  {
   "cell_type": "code",
   "execution_count": 8,
   "id": "b79c2626",
   "metadata": {
    "scrolled": true,
    "tags": []
   },
   "outputs": [
    {
     "ename": "NameError",
     "evalue": "name 'hand_landmarks' is not defined",
     "output_type": "error",
     "traceback": [
      "\u001b[0;31m---------------------------------------------------------------------------\u001b[0m",
      "\u001b[0;31mNameError\u001b[0m                                 Traceback (most recent call last)",
      "\u001b[0;32m<ipython-input-8-bf1d6a4f0202>\u001b[0m in \u001b[0;36m<module>\u001b[0;34m\u001b[0m\n\u001b[1;32m     18\u001b[0m         \u001b[0;32mif\u001b[0m \u001b[0mresults\u001b[0m\u001b[0;34m.\u001b[0m\u001b[0mmulti_hand_landmarks\u001b[0m\u001b[0;34m:\u001b[0m\u001b[0;34m\u001b[0m\u001b[0;34m\u001b[0m\u001b[0m\n\u001b[1;32m     19\u001b[0m             \u001b[0;31m#print(results.multi_hand_landmarks)\u001b[0m\u001b[0;34m\u001b[0m\u001b[0;34m\u001b[0m\u001b[0;34m\u001b[0m\u001b[0m\n\u001b[0;32m---> 20\u001b[0;31m             \u001b[0mprint\u001b[0m\u001b[0;34m(\u001b[0m\u001b[0mhand_landmarks\u001b[0m\u001b[0;34m.\u001b[0m\u001b[0mlandmark\u001b[0m\u001b[0;34m[\u001b[0m\u001b[0mmp_hands\u001b[0m\u001b[0;34m.\u001b[0m\u001b[0mHandLandmark\u001b[0m\u001b[0;34m.\u001b[0m\u001b[0mINDEX_FINGER_MCP\u001b[0m\u001b[0;34m]\u001b[0m\u001b[0;34m.\u001b[0m\u001b[0mx\u001b[0m\u001b[0;34m)\u001b[0m\u001b[0;34m\u001b[0m\u001b[0;34m\u001b[0m\u001b[0m\n\u001b[0m\u001b[1;32m     21\u001b[0m \u001b[0;34m\u001b[0m\u001b[0m\n\u001b[1;32m     22\u001b[0m \u001b[0;34m\u001b[0m\u001b[0m\n",
      "\u001b[0;31mNameError\u001b[0m: name 'hand_landmarks' is not defined"
     ]
    }
   ],
   "source": [
    "cap = cv2.VideoCapture(0)\n",
    "\n",
    "with mp_hands.Hands(min_detection_confidence=0.8, min_tracking_confidence=0.5) as hands:\n",
    "    \n",
    "    while cap.isOpened():\n",
    "        ret, frame = cap.read()\n",
    "        \n",
    "        #BGR TO RGB\n",
    "        image = cv2.cvtColor(frame,cv2.COLOR_BGR2RGB)\n",
    "        \n",
    "        #flip on horizontal\n",
    "        image = cv2.flip(image,1)\n",
    "        #Set Flag\n",
    "        image.flags.writeable=False\n",
    "        \n",
    "        #detections\n",
    "        results = hands.process(image)\n",
    "        if results.multi_hand_landmarks:\n",
    "            #print(results.multi_hand_landmarks)\n",
    "            print(hand_landmarks.landmark[mp_hands.HandLandmark.INDEX_FINGER_MCP].x)\n",
    "            \n",
    "        \n",
    "        # Set flag to true\n",
    "        image.flags.writeable = True\n",
    "        \n",
    "        # RGB 2 BGR\n",
    "        image = cv2.cvtColor(image, cv2.COLOR_RGB2BGR)\n",
    "        \n",
    "        #Detections\n",
    "        #print(results)\n",
    "        #results.multi_hand_landmarks\n",
    "        \n",
    "        #rendering results\n",
    "        if results.multi_hand_landmarks:\n",
    "            for num, hand in enumerate(results.multi_hand_landmarks):\n",
    "                mp_drawing.draw_landmarks(image, hand, mp_hands.HAND_CONNECTIONS)\n",
    "    \n",
    "        \n",
    "        cv2.imshow(\"Palmprint\", image)\n",
    "\n",
    "        if cv2.waitKey(10) & 0xFF == ord('q'):\n",
    "            break\n",
    "\n",
    "cap.release()\n",
    "cv2.destroyAllWindows()"
   ]
  },
  {
   "cell_type": "markdown",
   "id": "256eb197",
   "metadata": {},
   "source": [
    "## "
   ]
  },
  {
   "cell_type": "code",
   "execution_count": 25,
   "id": "9f6abbc1",
   "metadata": {},
   "outputs": [
    {
     "name": "stdout",
     "output_type": "stream",
     "text": [
      "x: 0.5644052624702454\n",
      "y: 0.4531404674053192\n",
      "z: -0.09957297146320343\n",
      "\n",
      "(1706, 1658)\n",
      "1706\n"
     ]
    }
   ],
   "source": [
    "import cv2\n",
    "import mediapipe\n",
    " \n",
    "drawingModule = mediapipe.solutions.drawing_utils\n",
    "handsModule = mediapipe.solutions.hands\n",
    " \n",
    "with handsModule.Hands(static_image_mode=True) as hands:\n",
    " \n",
    "    image = cv2.imread(\"/home/pedrodsk/Downloads/maoPedro_esquerda.jpg\")\n",
    "    image = cv2.flip(image,1)\n",
    "    #cv2.imshow(\"Palmprint\", image)\n",
    "    #cv2.waitKey(0)\n",
    "        \n",
    "    results = hands.process(cv2.cvtColor(image, cv2.COLOR_BGR2RGB))\n",
    "    \n",
    "    #cv2.imshow(\"Palmprint\", image)\n",
    "    #cv2.waitKey(0)\n",
    "\n",
    "    #if cv2.waitKey(0) & 0xFF == ord('q'):\n",
    "    #    cv2.destroyAllWindows()\n",
    "\n",
    "\n",
    "\n",
    "    imageHeight, imageWidth, _ = image.shape\n",
    "\n",
    "    if results.multi_hand_landmarks != None:\n",
    "#         for handLandmarks in results.multi_hand_landmarks:\n",
    "#           for point in handsModule.HandLandmark:\n",
    " \n",
    "#               normalizedLandmark = handLandmarks.landmark[point]\n",
    "#               pixelCoordinatesLandmark = drawingModule._normalized_to_pixel_coordinates(normalizedLandmark.x, normalizedLandmark.y, imageWidth, imageHeight)\n",
    " \n",
    "#               print(point)\n",
    "#               print(pixelCoordinatesLandmark[0])\n",
    "#               print(results.multi_handedness[0].classification[0].label)  \n",
    "#               #print(normalizedLandmark)\n",
    "        imageHeight, imageWidth, _ = image.shape\n",
    "    \n",
    "        normalizedLandmark = results.multi_hand_landmarks[0].landmark[5]\n",
    "        pixelCoordinatesLandmark_5 = drawingModule._normalized_to_pixel_coordinates(normalizedLandmark.x, normalizedLandmark.y, imageWidth, imageHeight)\n",
    " \n",
    "        #print(point)\n",
    "        print(results.multi_hand_landmarks[0].landmark[5])\n",
    "        print(pixelCoordinatesLandmark_5)\n",
    "        #print(results.multi_handedness[0].classification[0].label)\n",
    "        print(int(results.multi_hand_landmarks[0].landmark[5].x*imageWidth))"
   ]
  },
  {
   "cell_type": "code",
   "execution_count": 44,
   "id": "df59bc05",
   "metadata": {},
   "outputs": [
    {
     "data": {
      "text/plain": [
       "True"
      ]
     },
     "execution_count": 44,
     "metadata": {},
     "output_type": "execute_result"
    }
   ],
   "source": [
    "results.multi_handedness[0].classification[0].label == 'Left'"
   ]
  },
  {
   "cell_type": "code",
   "execution_count": 4,
   "id": "1f7d17e9",
   "metadata": {},
   "outputs": [
    {
     "data": {
      "text/plain": [
       "tuple"
      ]
     },
     "execution_count": 4,
     "metadata": {},
     "output_type": "execute_result"
    }
   ],
   "source": [
    "type(pixelCoordinatesLandmark)"
   ]
  },
  {
   "cell_type": "code",
   "execution_count": 7,
   "id": "990f3a1d-2164-4d3e-ae65-731e6b7f5aec",
   "metadata": {},
   "outputs": [
    {
     "data": {
      "text/plain": [
       "1339"
      ]
     },
     "execution_count": 7,
     "metadata": {},
     "output_type": "execute_result"
    }
   ],
   "source": [
    "pixelCoordinatesLandmark[1]"
   ]
  },
  {
   "cell_type": "code",
   "execution_count": 8,
   "id": "7b0a11fc-9baf-4404-a1f4-b2e7d34dd458",
   "metadata": {},
   "outputs": [
    {
     "name": "stdout",
     "output_type": "stream",
     "text": [
      "comandos\t\t      deep_learning   README.md      tcc\n",
      "CursoDeepLearningUdemy.ipynb  nicholas.ipynb  redes_neurais\n"
     ]
    }
   ],
   "source": [
    "!ls\n"
   ]
  },
  {
   "cell_type": "code",
   "execution_count": 21,
   "id": "d6a11760-6a2d-4c1c-b8b4-ba3b47441b45",
   "metadata": {},
   "outputs": [
    {
     "data": {
      "text/plain": [
       "mediapipe.framework.formats.classification_pb2.ClassificationList"
      ]
     },
     "execution_count": 21,
     "metadata": {},
     "output_type": "execute_result"
    }
   ],
   "source": [
    "type(results.multi_handedness[0])"
   ]
  },
  {
   "cell_type": "code",
   "execution_count": 26,
   "id": "ae0087a7-50f7-426c-8960-5eadc991b398",
   "metadata": {},
   "outputs": [
    {
     "ename": "NameError",
     "evalue": "name 'MessageToDict' is not defined",
     "output_type": "error",
     "traceback": [
      "\u001b[0;31m---------------------------------------------------------------------------\u001b[0m",
      "\u001b[0;31mNameError\u001b[0m                                 Traceback (most recent call last)",
      "\u001b[0;32m<ipython-input-26-4d8d9e2e2f06>\u001b[0m in \u001b[0;36m<module>\u001b[0;34m\u001b[0m\n\u001b[1;32m      1\u001b[0m \u001b[0;32mfor\u001b[0m \u001b[0midx\u001b[0m\u001b[0;34m,\u001b[0m \u001b[0mhand_handedness\u001b[0m \u001b[0;32min\u001b[0m \u001b[0menumerate\u001b[0m\u001b[0;34m(\u001b[0m\u001b[0mresults\u001b[0m\u001b[0;34m.\u001b[0m\u001b[0mmulti_handedness\u001b[0m\u001b[0;34m)\u001b[0m\u001b[0;34m:\u001b[0m\u001b[0;34m\u001b[0m\u001b[0;34m\u001b[0m\u001b[0m\n\u001b[0;32m----> 2\u001b[0;31m     \u001b[0mhandedness_dict\u001b[0m \u001b[0;34m=\u001b[0m \u001b[0mMessageToDict\u001b[0m\u001b[0;34m(\u001b[0m\u001b[0mhand_handedness\u001b[0m\u001b[0;34m)\u001b[0m\u001b[0;34m\u001b[0m\u001b[0;34m\u001b[0m\u001b[0m\n\u001b[0m\u001b[1;32m      3\u001b[0m     \u001b[0mprint\u001b[0m\u001b[0;34m(\u001b[0m\u001b[0mhandedness_dict\u001b[0m\u001b[0;34m)\u001b[0m\u001b[0;34m\u001b[0m\u001b[0;34m\u001b[0m\u001b[0m\n",
      "\u001b[0;31mNameError\u001b[0m: name 'MessageToDict' is not defined"
     ]
    }
   ],
   "source": [
    "for idx, hand_handedness in enumerate(results.multi_handedness):\n",
    "    handedness_dict = MessageToDict(hand_handedness)\n",
    "    print(handedness_dict)"
   ]
  },
  {
   "cell_type": "code",
   "execution_count": 42,
   "id": "fe0024fd-7cf3-4ef0-9ffc-0dd01fd92294",
   "metadata": {},
   "outputs": [
    {
     "data": {
      "text/plain": [
       "str"
      ]
     },
     "execution_count": 42,
     "metadata": {},
     "output_type": "execute_result"
    }
   ],
   "source": [
    "type(results.multi_handedness[0].classification[0].label)"
   ]
  },
  {
   "cell_type": "code",
   "execution_count": 6,
   "id": "c8c6aa0c-41af-4fee-b069-0383c7437656",
   "metadata": {},
   "outputs": [
    {
     "ename": "NameError",
     "evalue": "name 'handLandmarks' is not defined",
     "output_type": "error",
     "traceback": [
      "\u001b[0;31m---------------------------------------------------------------------------\u001b[0m",
      "\u001b[0;31mNameError\u001b[0m                                 Traceback (most recent call last)",
      "\u001b[0;32m<ipython-input-6-549fa9a2f389>\u001b[0m in \u001b[0;36m<module>\u001b[0;34m\u001b[0m\n\u001b[0;32m----> 1\u001b[0;31m \u001b[0mhandLandmarks\u001b[0m\u001b[0;34m.\u001b[0m\u001b[0mlandmark\u001b[0m\u001b[0;34m[\u001b[0m\u001b[0;36m0\u001b[0m\u001b[0;34m]\u001b[0m\u001b[0;34m\u001b[0m\u001b[0;34m\u001b[0m\u001b[0m\n\u001b[0m",
      "\u001b[0;31mNameError\u001b[0m: name 'handLandmarks' is not defined"
     ]
    }
   ],
   "source": [
    "handLandmarks.landmark[0]"
   ]
  },
  {
   "cell_type": "code",
   "execution_count": 6,
   "id": "9c61b241-9095-4c31-9ef3-9d5808d994b5",
   "metadata": {},
   "outputs": [
    {
     "data": {
      "text/plain": [
       "x: 0.5859349370002747\n",
       "y: 0.7683277130126953\n",
       "z: -0.11464744806289673"
      ]
     },
     "execution_count": 6,
     "metadata": {},
     "output_type": "execute_result"
    }
   ],
   "source": [
    "handLandmarks.landmark[1]"
   ]
  },
  {
   "cell_type": "code",
   "execution_count": 36,
   "id": "e5be9dbf-68d2-447a-99ef-9cadaea34cd8",
   "metadata": {},
   "outputs": [
    {
     "data": {
      "text/plain": [
       "0.6772863149642944"
      ]
     },
     "execution_count": 36,
     "metadata": {},
     "output_type": "execute_result"
    }
   ],
   "source": [
    "handLandmarks.landmark[5].x*1.2"
   ]
  },
  {
   "cell_type": "code",
   "execution_count": 9,
   "id": "519669d6-83bd-4949-b65b-91b86faed5bb",
   "metadata": {},
   "outputs": [
    {
     "data": {
      "text/plain": [
       "float"
      ]
     },
     "execution_count": 9,
     "metadata": {},
     "output_type": "execute_result"
    }
   ],
   "source": [
    "type(handLandmarks.landmark[5].x)"
   ]
  },
  {
   "cell_type": "code",
   "execution_count": 10,
   "id": "87230202-6614-4aac-b6fa-a40e1d3e8ee5",
   "metadata": {},
   "outputs": [
    {
     "data": {
      "text/plain": [
       "246"
      ]
     },
     "execution_count": 10,
     "metadata": {},
     "output_type": "execute_result"
    }
   ],
   "source": [
    "pixelCoordinatesLandmark[0]"
   ]
  },
  {
   "cell_type": "code",
   "execution_count": 11,
   "id": "1aaa8457-852d-4a05-af9f-9677fef9d958",
   "metadata": {},
   "outputs": [
    {
     "ename": "IndexError",
     "evalue": "tuple index out of range",
     "output_type": "error",
     "traceback": [
      "\u001b[0;31m---------------------------------------------------------------------------\u001b[0m",
      "\u001b[0;31mIndexError\u001b[0m                                Traceback (most recent call last)",
      "\u001b[0;32m<ipython-input-11-909805d6ff9e>\u001b[0m in \u001b[0;36m<module>\u001b[0;34m\u001b[0m\n\u001b[0;32m----> 1\u001b[0;31m \u001b[0mpixelCoordinatesLandmark\u001b[0m\u001b[0;34m[\u001b[0m\u001b[0;36m5\u001b[0m\u001b[0;34m]\u001b[0m\u001b[0;34m\u001b[0m\u001b[0;34m\u001b[0m\u001b[0m\n\u001b[0m",
      "\u001b[0;31mIndexError\u001b[0m: tuple index out of range"
     ]
    }
   ],
   "source": [
    "pixelCoordinatesLandmark[5]"
   ]
  },
  {
   "cell_type": "code",
   "execution_count": 12,
   "id": "b10b0cd8-ab25-4e20-9167-c8cb836af7cf",
   "metadata": {},
   "outputs": [
    {
     "ename": "IndexError",
     "evalue": "tuple index out of range",
     "output_type": "error",
     "traceback": [
      "\u001b[0;31m---------------------------------------------------------------------------\u001b[0m",
      "\u001b[0;31mIndexError\u001b[0m                                Traceback (most recent call last)",
      "\u001b[0;32m<ipython-input-12-b2dfa1cb4219>\u001b[0m in \u001b[0;36m<module>\u001b[0;34m\u001b[0m\n\u001b[0;32m----> 1\u001b[0;31m \u001b[0mpixelCoordinatesLandmark\u001b[0m\u001b[0;34m[\u001b[0m\u001b[0;36m2\u001b[0m\u001b[0;34m]\u001b[0m\u001b[0;34m\u001b[0m\u001b[0;34m\u001b[0m\u001b[0m\n\u001b[0m",
      "\u001b[0;31mIndexError\u001b[0m: tuple index out of range"
     ]
    }
   ],
   "source": [
    "pixelCoordinatesLandmark[2]"
   ]
  },
  {
   "cell_type": "code",
   "execution_count": 13,
   "id": "e39ba5c6-e128-4f2e-90ca-36aae6ea76f0",
   "metadata": {},
   "outputs": [
    {
     "data": {
      "text/plain": [
       "988"
      ]
     },
     "execution_count": 13,
     "metadata": {},
     "output_type": "execute_result"
    }
   ],
   "source": [
    "pixelCoordinatesLandmark[1]"
   ]
  },
  {
   "cell_type": "code",
   "execution_count": 14,
   "id": "fb4a64d1-bf76-4469-aefc-753d7b0f68ba",
   "metadata": {},
   "outputs": [
    {
     "data": {
      "text/plain": [
       "5.644052624702454"
      ]
     },
     "execution_count": 14,
     "metadata": {},
     "output_type": "execute_result"
    }
   ],
   "source": [
    "results.multi_hand_landmarks[0].landmark[5].x*10"
   ]
  },
  {
   "cell_type": "code",
   "execution_count": 17,
   "id": "d8dac383-24ff-4afb-b24f-6c1b26781e74",
   "metadata": {},
   "outputs": [
    {
     "data": {
      "text/plain": [
       "int"
      ]
     },
     "execution_count": 17,
     "metadata": {},
     "output_type": "execute_result"
    }
   ],
   "source": [
    "type(imageWidth)"
   ]
  },
  {
   "cell_type": "code",
   "execution_count": 18,
   "id": "6525a371-9776-471f-9f49-f9d2cd2de083",
   "metadata": {},
   "outputs": [
    {
     "data": {
      "text/plain": [
       "3024"
      ]
     },
     "execution_count": 18,
     "metadata": {},
     "output_type": "execute_result"
    }
   ],
   "source": [
    "imageWidth\n"
   ]
  },
  {
   "cell_type": "code",
   "execution_count": 26,
   "id": "1fe23a95-1084-4193-abf9-031cb0651a6a",
   "metadata": {},
   "outputs": [
    {
     "data": {
      "text/plain": [
       "x: 0.5644052624702454\n",
       "y: 0.4531404674053192\n",
       "z: -0.09957297146320343"
      ]
     },
     "execution_count": 26,
     "metadata": {},
     "output_type": "execute_result"
    }
   ],
   "source": [
    "results.multi_hand_landmarks[0].landmark[5]"
   ]
  },
  {
   "cell_type": "code",
   "execution_count": 27,
   "id": "26de5aea-2a8d-4e65-99b8-e9814a0be667",
   "metadata": {},
   "outputs": [
    {
     "data": {
      "text/plain": [
       "x: 0.5644052624702454\n",
       "y: 0.4531404674053192\n",
       "z: -0.09957297146320343"
      ]
     },
     "execution_count": 27,
     "metadata": {},
     "output_type": "execute_result"
    }
   ],
   "source": [
    "results.multi_hand_landmarks[0].landmark[5]"
   ]
  },
  {
   "cell_type": "code",
   "execution_count": 34,
   "id": "1e0994ac-57e1-44f9-b6bd-10356e0fd149",
   "metadata": {},
   "outputs": [
    {
     "ename": "AttributeError",
     "evalue": "'tuple' object has no attribute 'x'",
     "output_type": "error",
     "traceback": [
      "\u001b[0;31m---------------------------------------------------------------------------\u001b[0m",
      "\u001b[0;31mAttributeError\u001b[0m                            Traceback (most recent call last)",
      "\u001b[0;32m<ipython-input-34-f74329ebd4d3>\u001b[0m in \u001b[0;36m<module>\u001b[0;34m\u001b[0m\n\u001b[0;32m----> 1\u001b[0;31m \u001b[0mpixelCoordinatesLandmark_5\u001b[0m\u001b[0;34m.\u001b[0m\u001b[0mx\u001b[0m\u001b[0;34m\u001b[0m\u001b[0;34m\u001b[0m\u001b[0m\n\u001b[0m",
      "\u001b[0;31mAttributeError\u001b[0m: 'tuple' object has no attribute 'x'"
     ]
    }
   ],
   "source": [
    "pixelCoordinatesLandmark_5.x"
   ]
  },
  {
   "cell_type": "code",
   "execution_count": 29,
   "id": "0f5fde5f-a787-49a2-b588-e42016b709da",
   "metadata": {},
   "outputs": [
    {
     "data": {
      "text/plain": [
       "tuple"
      ]
     },
     "execution_count": 29,
     "metadata": {},
     "output_type": "execute_result"
    }
   ],
   "source": [
    "type(pixelCoordinatesLandmark_5)"
   ]
  },
  {
   "cell_type": "code",
   "execution_count": null,
   "id": "fff41105-ccad-4427-abda-4f97c003351f",
   "metadata": {},
   "outputs": [],
   "source": []
  }
 ],
 "metadata": {
  "kernelspec": {
   "display_name": "Python 3",
   "language": "python",
   "name": "python3"
  },
  "language_info": {
   "codemirror_mode": {
    "name": "ipython",
    "version": 3
   },
   "file_extension": ".py",
   "mimetype": "text/x-python",
   "name": "python",
   "nbconvert_exporter": "python",
   "pygments_lexer": "ipython3",
   "version": "3.8.11"
  }
 },
 "nbformat": 4,
 "nbformat_minor": 5
}
