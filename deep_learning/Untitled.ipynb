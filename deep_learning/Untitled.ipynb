{
 "cells": [
  {
   "cell_type": "code",
   "execution_count": 1,
   "id": "e2b9f21a-bd4d-4cc4-a8b5-4889d6552d3c",
   "metadata": {},
   "outputs": [],
   "source": [
    "import numpy as np\n",
    "from tensorflow import keras\n",
    "from tensorflow.keras import layers"
   ]
  },
  {
   "cell_type": "code",
   "execution_count": 2,
   "id": "544462c3-cf02-474b-b848-0057b2195416",
   "metadata": {},
   "outputs": [
    {
     "name": "stdout",
     "output_type": "stream",
     "text": [
      "x_train shape: (60000, 28, 28, 1)\n",
      "60000 train samples\n",
      "10000 test samples\n"
     ]
    }
   ],
   "source": [
    "# Model / data parameters\n",
    "num_classes = 10\n",
    "input_shape = (28, 28, 1)\n",
    "\n",
    "# the data, split between train and test sets\n",
    "(x_train, y_train), (x_test, y_test) = keras.datasets.mnist.load_data()\n",
    "\n",
    "# Scale images to the [0, 1] range\n",
    "x_train = x_train.astype(\"float32\") / 255\n",
    "x_test = x_test.astype(\"float32\") / 255\n",
    "# Make sure images have shape (28, 28, 1)\n",
    "x_train = np.expand_dims(x_train, -1)\n",
    "x_test = np.expand_dims(x_test, -1)\n",
    "print(\"x_train shape:\", x_train.shape)\n",
    "print(x_train.shape[0], \"train samples\")\n",
    "print(x_test.shape[0], \"test samples\")\n",
    "\n",
    "\n",
    "# convert class vectors to binary class matrices\n",
    "y_train = keras.utils.to_categorical(y_train, num_classes)\n",
    "y_test = keras.utils.to_categorical(y_test, num_classes)\n"
   ]
  },
  {
   "cell_type": "code",
   "execution_count": 3,
   "id": "f43f03ed-8274-4a53-8fc8-ee77558dce3a",
   "metadata": {},
   "outputs": [
    {
     "name": "stdout",
     "output_type": "stream",
     "text": [
      "WARNING:tensorflow:Please add `keras.layers.InputLayer` instead of `keras.Input` to Sequential model. `keras.Input` is intended to be used by Functional model.\n",
      "Model: \"sequential\"\n",
      "_________________________________________________________________\n",
      "Layer (type)                 Output Shape              Param #   \n",
      "=================================================================\n",
      "conv2d (Conv2D)              (None, 26, 26, 32)        320       \n",
      "_________________________________________________________________\n",
      "max_pooling2d (MaxPooling2D) (None, 13, 13, 32)        0         \n",
      "_________________________________________________________________\n",
      "conv2d_1 (Conv2D)            (None, 11, 11, 64)        18496     \n",
      "_________________________________________________________________\n",
      "max_pooling2d_1 (MaxPooling2 (None, 5, 5, 64)          0         \n",
      "_________________________________________________________________\n",
      "flatten (Flatten)            (None, 1600)              0         \n",
      "_________________________________________________________________\n",
      "dropout (Dropout)            (None, 1600)              0         \n",
      "_________________________________________________________________\n",
      "dense (Dense)                (None, 10)                16010     \n",
      "=================================================================\n",
      "Total params: 34,826\n",
      "Trainable params: 34,826\n",
      "Non-trainable params: 0\n",
      "_________________________________________________________________\n"
     ]
    }
   ],
   "source": [
    "model = keras.Sequential(\n",
    "    [\n",
    "        keras.Input(shape=input_shape),\n",
    "        layers.Conv2D(32, kernel_size=(3, 3), activation=\"relu\"),\n",
    "        layers.MaxPooling2D(pool_size=(2, 2)),\n",
    "        layers.Conv2D(64, kernel_size=(3, 3), activation=\"relu\"),\n",
    "        layers.MaxPooling2D(pool_size=(2, 2)),\n",
    "        layers.Flatten(),\n",
    "        layers.Dropout(0.5),\n",
    "        layers.Dense(num_classes, activation=\"softmax\"),\n",
    "    ]\n",
    ")\n",
    "\n",
    "model.summary()"
   ]
  },
  {
   "cell_type": "code",
   "execution_count": 4,
   "id": "746ad62c-182b-48a3-aeef-eb9ef6ee3ca1",
   "metadata": {},
   "outputs": [
    {
     "name": "stdout",
     "output_type": "stream",
     "text": [
      "Epoch 1/15\n",
      "422/422 [==============================] - 13s 30ms/step - loss: 0.3596 - accuracy: 0.8910 - val_loss: 0.0801 - val_accuracy: 0.9775\n",
      "Epoch 2/15\n",
      "422/422 [==============================] - 12s 29ms/step - loss: 0.1086 - accuracy: 0.9660 - val_loss: 0.0544 - val_accuracy: 0.9852\n",
      "Epoch 3/15\n",
      "422/422 [==============================] - 12s 29ms/step - loss: 0.0813 - accuracy: 0.9748 - val_loss: 0.0486 - val_accuracy: 0.9870\n",
      "Epoch 4/15\n",
      "422/422 [==============================] - 13s 31ms/step - loss: 0.0693 - accuracy: 0.9790 - val_loss: 0.0429 - val_accuracy: 0.9875\n",
      "Epoch 5/15\n",
      "422/422 [==============================] - 13s 31ms/step - loss: 0.0592 - accuracy: 0.9820 - val_loss: 0.0383 - val_accuracy: 0.9902\n",
      "Epoch 6/15\n",
      "422/422 [==============================] - 13s 31ms/step - loss: 0.0542 - accuracy: 0.9830 - val_loss: 0.0357 - val_accuracy: 0.9895\n",
      "Epoch 7/15\n",
      "422/422 [==============================] - 13s 30ms/step - loss: 0.0495 - accuracy: 0.9845 - val_loss: 0.0356 - val_accuracy: 0.9907\n",
      "Epoch 8/15\n",
      "422/422 [==============================] - 13s 31ms/step - loss: 0.0447 - accuracy: 0.9861 - val_loss: 0.0335 - val_accuracy: 0.9912\n",
      "Epoch 9/15\n",
      "422/422 [==============================] - 13s 31ms/step - loss: 0.0440 - accuracy: 0.9858 - val_loss: 0.0314 - val_accuracy: 0.9917\n",
      "Epoch 10/15\n",
      "422/422 [==============================] - 13s 31ms/step - loss: 0.0411 - accuracy: 0.9869 - val_loss: 0.0299 - val_accuracy: 0.9920\n",
      "Epoch 11/15\n",
      "422/422 [==============================] - 13s 31ms/step - loss: 0.0379 - accuracy: 0.9877 - val_loss: 0.0317 - val_accuracy: 0.9907\n",
      "Epoch 12/15\n",
      "422/422 [==============================] - 13s 31ms/step - loss: 0.0375 - accuracy: 0.9878 - val_loss: 0.0315 - val_accuracy: 0.9917\n",
      "Epoch 13/15\n",
      "422/422 [==============================] - 13s 31ms/step - loss: 0.0338 - accuracy: 0.9897 - val_loss: 0.0306 - val_accuracy: 0.9907\n",
      "Epoch 14/15\n",
      "422/422 [==============================] - 13s 31ms/step - loss: 0.0312 - accuracy: 0.9895 - val_loss: 0.0277 - val_accuracy: 0.9922\n",
      "Epoch 15/15\n",
      "422/422 [==============================] - 14s 32ms/step - loss: 0.0323 - accuracy: 0.9894 - val_loss: 0.0320 - val_accuracy: 0.9912\n"
     ]
    },
    {
     "data": {
      "text/plain": [
       "<tensorflow.python.keras.callbacks.History at 0x7f70600821f0>"
      ]
     },
     "execution_count": 4,
     "metadata": {},
     "output_type": "execute_result"
    }
   ],
   "source": [
    "batch_size = 128\n",
    "epochs = 15\n",
    "\n",
    "model.compile(loss=\"categorical_crossentropy\", optimizer=\"adam\", metrics=[\"accuracy\"])\n",
    "\n",
    "model.fit(x_train, y_train, batch_size=batch_size, epochs=epochs, validation_split=0.1)"
   ]
  },
  {
   "cell_type": "code",
   "execution_count": null,
   "id": "795fc686-b434-47a1-8179-ef60176f4781",
   "metadata": {},
   "outputs": [],
   "source": []
  }
 ],
 "metadata": {
  "kernelspec": {
   "display_name": "Python 3",
   "language": "python",
   "name": "python3"
  },
  "language_info": {
   "codemirror_mode": {
    "name": "ipython",
    "version": 3
   },
   "file_extension": ".py",
   "mimetype": "text/x-python",
   "name": "python",
   "nbconvert_exporter": "python",
   "pygments_lexer": "ipython3",
   "version": "3.8.11"
  }
 },
 "nbformat": 4,
 "nbformat_minor": 5
}
